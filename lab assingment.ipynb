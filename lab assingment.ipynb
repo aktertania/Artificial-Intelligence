{
 "cells": [
  {
   "cell_type": "code",
   "execution_count": 13,
   "metadata": {},
   "outputs": [
    {
     "name": "stdout",
     "output_type": "stream",
     "text": [
      "0\n",
      "1\n",
      "2\n"
     ]
    }
   ],
   "source": [
    "#BFS\n",
    "import collections\n",
    "\n",
    "def bfs(graph, root):\n",
    "    seen, queue = set([root]), collections.deque([root])\n",
    "    while queue:\n",
    "        vertex = queue.popleft()\n",
    "        visit(vertex)\n",
    "        for node in graph[vertex]:\n",
    "            if node not in seen:\n",
    "                seen.add(node)\n",
    "                queue.append(node)\n",
    "\n",
    "def visit(n):\n",
    "    print(n)\n",
    "\n",
    "if __name__ == '__main__':\n",
    "    graph = {0: [1, 2], 1: [0,2], 2: []} \n",
    "    bfs(graph, 0)"
   ]
  },
  {
   "cell_type": "code",
   "execution_count": 18,
   "metadata": {},
   "outputs": [
    {
     "name": "stdout",
     "output_type": "stream",
     "text": [
      "[1, 2, 4, 6, 7, 5, 3]\n"
     ]
    }
   ],
   "source": [
    "#DFS\n",
    "def dfs_recursive(graph, vertex, path=[]):\n",
    "    path += [vertex]\n",
    "\n",
    "    for neighbor in graph[vertex]:\n",
    "        if neighbor not in path:\n",
    "            path = dfs_recursive(graph, neighbor, path)\n",
    "\n",
    "    return path\n",
    "\n",
    "\n",
    "adjacency_matrix = {1: [2, 3], 2: [4, 5],\n",
    "                    3: [5], 4: [6], 5: [6],\n",
    "                    6: [7], 7: []}\n",
    "\n",
    "print(dfs_recursive(adjacency_matrix, 1))"
   ]
  },
  {
   "cell_type": "code",
   "execution_count": 19,
   "metadata": {},
   "outputs": [
    {
     "name": "stdout",
     "output_type": "stream",
     "text": [
      "{'c': 0, 'a': 1, 'd': 2, 'e': 1, 'b': 2, 'f': 2}\n"
     ]
    }
   ],
   "source": [
    "#Graph coloring Alogorithm\n",
    "def color_nodes(graph):\n",
    "  # Order nodes in descending degree\n",
    "  nodes = sorted(list(graph.keys()), key=lambda x: len(graph[x]), reverse=True)\n",
    "  color_map = {}\n",
    "\n",
    "  for node in nodes:\n",
    "    available_colors = [True] * len(nodes)\n",
    "    for neighbor in graph[node]:\n",
    "      if neighbor in color_map:\n",
    "        color = color_map[neighbor]\n",
    "        available_colors[color] = False\n",
    "    for color, available in enumerate(available_colors):\n",
    "      if available:\n",
    "        color_map[node] = color\n",
    "        break\n",
    "\n",
    "  return color_map\n",
    "\n",
    "\n",
    "if __name__ == '__main__':\n",
    "  graph = {\n",
    "    'a': list('bcd'),\n",
    "    'b': list('ac'),\n",
    "    'c': list('abdef'),\n",
    "    'd': list('ace'),\n",
    "    'e': list('cdf'),\n",
    "    'f': list('ce')\n",
    "  }\n",
    "  print(color_nodes(graph))"
   ]
  },
  {
   "cell_type": "code",
   "execution_count": null,
   "metadata": {},
   "outputs": [],
   "source": []
  }
 ],
 "metadata": {
  "kernelspec": {
   "display_name": "Python 3",
   "language": "python",
   "name": "python3"
  },
  "language_info": {
   "codemirror_mode": {
    "name": "ipython",
    "version": 3
   },
   "file_extension": ".py",
   "mimetype": "text/x-python",
   "name": "python",
   "nbconvert_exporter": "python",
   "pygments_lexer": "ipython3",
   "version": "3.7.0"
  }
 },
 "nbformat": 4,
 "nbformat_minor": 2
}
